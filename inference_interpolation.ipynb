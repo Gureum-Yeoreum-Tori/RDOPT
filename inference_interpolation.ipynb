{
 "cells": [
  {
   "cell_type": "code",
   "execution_count": null,
   "metadata": {},
   "outputs": [],
   "source": [
    "# ----------------- 시각화 -----------------\n",
    "import matplotlib.pyplot as plt\n",
    "import matplotlib.colors as mcolors\n",
    "\n",
    "mcolors_list = list(mcolors.TABLEAU_COLORS.values())\n",
    "n_plot = min(5, B_eval)  # 최대 5개만 시각화\n",
    "\n",
    "rdc_labels = ['K', 'k', 'C', 'c', 'M', 'm']\n",
    "rdc_units = ['N/m', 'N/m', 'N s/m', 'N s/m', 'kg', 'kg']\n",
    "    \n",
    "fig, axes = plt.subplots(3, 2, figsize=(18, 14))\n",
    "axes = axes.flatten()\n",
    "\n",
    "for ch in range(n_rdc_coeffs):\n",
    "    ax = axes[ch]\n",
    "    for idx in range(n_plot):\n",
    "        color = mcolors_list[idx % len(mcolors_list)]\n",
    "        # GT: w 전체 구간\n",
    "        ax.plot(\n",
    "            w, \n",
    "            y_functions[idx_eval[idx], ch, :],  # 이미 원스케일 값\n",
    "            linestyle='-', linewidth=2, color=color,\n",
    "            label=f\"True #{idx_eval[idx]}\"\n",
    "        )\n",
    "        # Pred: wq 내삽 구간\n",
    "        ax.plot(\n",
    "            wq,\n",
    "            preds_orig_q[idx, ch, :],\n",
    "            linestyle='--', marker='o', markersize=3, linewidth=1.5, color=color,\n",
    "            label=f\"Pred #{idx_eval[idx]}\"\n",
    "        )\n",
    "    ax.set_title(labels[ch])\n",
    "    ax.set_xlabel('Rotational speed [rad/s]')\n",
    "    ax.set_ylabel(rdc_units[ch] if 'rdc_units' in locals() else labels[ch])\n",
    "    ax.grid(True)\n",
    "    ax.legend(ncol=2, fontsize=9)\n",
    "\n",
    "plt.tight_layout()\n",
    "plt.show()"
   ]
  },
  {
   "cell_type": "code",
   "execution_count": null,
   "metadata": {},
   "outputs": [],
   "source": []
  }
 ],
 "metadata": {
  "language_info": {
   "codemirror_mode": {
    "name": "ipython",
    "version": 3
   },
   "file_extension": ".py",
   "mimetype": "text/x-python",
   "name": "python",
   "nbconvert_exporter": "python",
   "pygments_lexer": "ipython3",
   "version": 3
  }
 },
 "nbformat": 4,
 "nbformat_minor": 2
}
